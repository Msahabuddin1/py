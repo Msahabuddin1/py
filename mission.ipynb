{
  "nbformat": 4,
  "nbformat_minor": 0,
  "metadata": {
    "colab": {
      "private_outputs": true,
      "provenance": [],
      "authorship_tag": "ABX9TyMpcXTYqlzlFBBRrTYj9bZr",
      "include_colab_link": true
    },
    "kernelspec": {
      "name": "python3",
      "display_name": "Python 3"
    },
    "language_info": {
      "name": "python"
    }
  },
  "cells": [
    {
      "cell_type": "markdown",
      "metadata": {
        "id": "view-in-github",
        "colab_type": "text"
      },
      "source": [
        "<a href=\"https://colab.research.google.com/github/Msahabuddin1/py/blob/master/mission.ipynb\" target=\"_parent\"><img src=\"https://colab.research.google.com/assets/colab-badge.svg\" alt=\"Open In Colab\"/></a>"
      ]
    },
    {
      "cell_type": "code",
      "execution_count": null,
      "metadata": {
        "id": "f4PPE8qJzD_R"
      },
      "outputs": [],
      "source": [
        "from matplotlib import pyplot as plt\n",
        "%matplotlib inline\n",
        "\n",
        "import pandas as pd\n",
        "import plotly.express as px\n",
        "import numpy as np\n",
        "\n",
        "CELL_HEIGHT: int = 50\n",
        "\n",
        "# Initialize helpers to ignore pandas warnings and resize columns and cells\n",
        "pd.set_option(\"chained_assignment\", None)\n",
        "pd.set_option(\"display.max_rows\", 50)\n",
        "pd.set_option(\"display.max_columns\", 500)\n",
        "pd.set_option('display.max_colwidth', CELL_HEIGHT)\n",
        "\n",
        "DATA_URL: str = \"https://dotlas-marketing.s3.amazonaws.com/interviews/california_restaurants.json\""
      ]
    },
    {
      "cell_type": "code",
      "source": [
        "%%time\n",
        "# df: pd.DataFrame = ?\n",
        "df = pd.read_json(DATA_URL)"
      ],
      "metadata": {
        "id": "alWfTQG7zvnn"
      },
      "execution_count": null,
      "outputs": []
    },
    {
      "cell_type": "code",
      "source": [
        "df.shape"
      ],
      "metadata": {
        "id": "Y-NHCTXy3w4g"
      },
      "execution_count": null,
      "outputs": []
    },
    {
      "cell_type": "code",
      "source": [
        "df.describe"
      ],
      "metadata": {
        "id": "1z2jDg8v3hx_"
      },
      "execution_count": null,
      "outputs": []
    },
    {
      "cell_type": "code",
      "source": [
        "df.head()"
      ],
      "metadata": {
        "id": "OkmCicpq3E-N"
      },
      "execution_count": null,
      "outputs": []
    },
    {
      "cell_type": "code",
      "source": [
        "#Create restaurant ID column to uniquely index each restaurant\n",
        "\n",
        "df[\"restaurant_id\"] = range(1, len(df) + 1)\n",
        "df.head(2)"
      ],
      "metadata": {
        "id": "FUcGJftB3T-6"
      },
      "execution_count": null,
      "outputs": []
    },
    {
      "cell_type": "code",
      "source": [
        "df.shape"
      ],
      "metadata": {
        "id": "U7qoYq5H5cad"
      },
      "execution_count": null,
      "outputs": []
    },
    {
      "cell_type": "markdown",
      "source": [
        "2.2.1 Restaurants by City 🌆 (1 point)\n",
        "\n",
        "For each city in california, find\n",
        "\n",
        "    the number of restaurants in that city, \n",
        "    mean rating of all restaurants in the city,\n",
        "    mean price_range_id per city,\n",
        "    mean maximum_days_advance_for_reservation per city\n"
      ],
      "metadata": {
        "id": "cLbORE2u6OGi"
      }
    },
    {
      "cell_type": "code",
      "source": [
        "df2=df.groupby('city').agg(restaurant_count=('brand_name','count'),\n",
        "                            avg_rating=('rating', 'mean'),\n",
        "                            avg_price_range_id=('price_range_id', 'mean'),\n",
        "                            avg_maximum_days_advance_for_reservation=('maximum_days_advance_for_reservation', 'mean'))"
      ],
      "metadata": {
        "id": "s9xqcy27c3v8"
      },
      "execution_count": null,
      "outputs": []
    },
    {
      "cell_type": "code",
      "source": [
        "df3=df2.sort_values(by='restaurant_count', ascending=False)"
      ],
      "metadata": {
        "id": "GG3gVTX0eJsM"
      },
      "execution_count": null,
      "outputs": []
    },
    {
      "cell_type": "code",
      "source": [
        "df3.head()"
      ],
      "metadata": {
        "id": "RXSnEcahC9lP"
      },
      "execution_count": null,
      "outputs": []
    },
    {
      "cell_type": "markdown",
      "source": [
        "2.2.2 Restaurants by Brand 🍔 (1 point)\n",
        "\n",
        "For each brand (brand_name) in california, find\n",
        "\n",
        "    the number of restaurants that belong to that brand,\n",
        "    mean price_range_id of the brand across its restaurants\n",
        "\n",
        "sort by number of restaurants.\n",
        "\n",
        "The resulting dataframe's top 5 rows would look as follows:\n"
      ],
      "metadata": {
        "id": "tH3iuV4oR2t7"
      }
    },
    {
      "cell_type": "code",
      "source": [
        "df4=df.groupby('brand_name').agg(restaurant_count=('brand_name','count'),\n",
        "                            avg_price_range_id=('price_range_id', 'mean'))"
      ],
      "metadata": {
        "id": "kzPFu7IyPocj"
      },
      "execution_count": null,
      "outputs": []
    },
    {
      "cell_type": "code",
      "source": [
        "df5=df4.sort_values(by='restaurant_count', ascending=False)"
      ],
      "metadata": {
        "id": "GrKRyM0wTxWr"
      },
      "execution_count": null,
      "outputs": []
    },
    {
      "cell_type": "code",
      "source": [
        "df5.head()"
      ],
      "metadata": {
        "id": "JJ_RolejTyhd"
      },
      "execution_count": null,
      "outputs": []
    },
    {
      "cell_type": "markdown",
      "source": [
        "\n",
        "\n",
        "2.2.3 Visualize Brands 📊 (2 points)\n",
        "\n",
        "Create a bar chart of top 5 brands in california by average number of reviews where each brand has at least 5 restaurants\n",
        "\n",
        "---\n",
        "\n"
      ],
      "metadata": {
        "id": "SmREvarFVHB6"
      }
    },
    {
      "cell_type": "code",
      "source": [
        "ar=df.groupby('brand_name').agg(avg_review_count=('review_count','mean'))\n",
        "ar1=ar.sort_values(by='avg_review_count', ascending=False)\n",
        "ar1.head()"
      ],
      "metadata": {
        "id": "FtQXRBtTVKiC"
      },
      "execution_count": null,
      "outputs": []
    },
    {
      "cell_type": "code",
      "source": [
        "x = df['brand_name'].head(5)\n",
        "y = ar1['avg_review_count'].head(5)"
      ],
      "metadata": {
        "id": "M1u-dc8JhpAt"
      },
      "execution_count": null,
      "outputs": []
    },
    {
      "cell_type": "code",
      "source": [
        "plt.bar(x,y)\n",
        "plt.xlabel('Categories')\n",
        "plt.ylabel(\"Values\")\n",
        "plt.title('Categories Bar Plot')\n",
        "plt.show()"
      ],
      "metadata": {
        "id": "CMtETawdcV1o"
      },
      "execution_count": null,
      "outputs": []
    },
    {
      "cell_type": "code",
      "source": [],
      "metadata": {
        "id": "XRy_McQehSIy"
      },
      "execution_count": null,
      "outputs": []
    }
  ]
}